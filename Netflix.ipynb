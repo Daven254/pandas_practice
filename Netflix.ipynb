{
 "cells": [
  {
   "cell_type": "markdown",
   "metadata": {},
   "source": [
    "# Imports\n",
    "importing pandas and numpy for handling CSV data\n",
    "importing matplotlib for graphical representations"
   ]
  },
  {
   "cell_type": "code",
   "execution_count": 2,
   "metadata": {
    "tags": []
   },
   "outputs": [],
   "source": [
    "import pandas as pd\n",
    "import numpy as np\n",
    "import matplotlib.pyplot as plt\n",
    "import os"
   ]
  },
  {
   "cell_type": "markdown",
   "metadata": {},
   "source": [
    "# setting the correct directory and reading csv file data. Also, getting all of the column headers, if available"
   ]
  },
  {
   "cell_type": "code",
   "execution_count": 3,
   "metadata": {},
   "outputs": [
    {
     "name": "stdout",
     "output_type": "stream",
     "text": [
      "/Users/daven/Documents/School/Python/datasets\n",
      "['Netflix.ipynb', '.ipynb_checkpoints', 'netflix_titles.csv']\n",
      "['show_id', 'type', 'title', 'director', 'cast', 'country', 'date_added', 'release_year', 'rating', 'duration', 'listed_in', 'description']\n"
     ]
    }
   ],
   "source": [
    "cwd = os.getcwd()\n",
    "print(cwd)\n",
    "dir = os.listdir()\n",
    "print(dir)\n",
    "\n",
    "\n",
    "df = pd.read_csv('netflix_titles.csv')\n",
    "\n",
    "columns = list(df.head(0))\n",
    "print(columns)"
   ]
  },
  {
   "cell_type": "code",
   "execution_count": 4,
   "metadata": {},
   "outputs": [],
   "source": [
    "# print(df[columns[0]])"
   ]
  },
  {
   "cell_type": "markdown",
   "metadata": {},
   "source": [
    "# Accessing specific data\n",
    "## access the nth row by the integer as a data series using one bracket\n",
    "## access the nth row by the integer as a dataframe using two brackets\n",
    "\n",
    "### if multiple rows are selected (via colon), then only one bracket is required. Two will yield an error. type will be dataframe"
   ]
  },
  {
   "cell_type": "code",
   "execution_count": 5,
   "metadata": {},
   "outputs": [],
   "source": [
    "# df.loc[2:5]"
   ]
  },
  {
   "cell_type": "code",
   "execution_count": 6,
   "metadata": {},
   "outputs": [],
   "source": [
    "# type(df.loc[[2]])\n",
    "# df.loc[[2]]"
   ]
  },
  {
   "cell_type": "markdown",
   "metadata": {},
   "source": [
    "# access the entire column by using two brackets. One bracket will not work\n",
    "multiple columns can be selected, just space via a comma"
   ]
  },
  {
   "cell_type": "markdown",
   "metadata": {},
   "source": [
    "## Instead of loc/iloc, the dataframe with a row/set of rows via a colon will display the rows of interest"
   ]
  },
  {
   "cell_type": "code",
   "execution_count": 7,
   "metadata": {},
   "outputs": [],
   "source": [
    "# df[0:3]"
   ]
  },
  {
   "cell_type": "code",
   "execution_count": 8,
   "metadata": {},
   "outputs": [],
   "source": [
    "# df.iloc[0:3]"
   ]
  },
  {
   "cell_type": "code",
   "execution_count": 9,
   "metadata": {},
   "outputs": [],
   "source": [
    "# df[['type','director']]"
   ]
  },
  {
   "cell_type": "markdown",
   "metadata": {},
   "source": [
    "print specific rows and columns of interest\n",
    "either a list of rows or a sequential rows spaced by commas\n",
    "columns must be identified by their name. Because the column names were previously placed in the _**column**_ list, I was able to call them from that list instead of typing each header."
   ]
  },
  {
   "cell_type": "code",
   "execution_count": 10,
   "metadata": {},
   "outputs": [],
   "source": [
    "row_interest = [522,6,757,800]\n",
    "col_interest = columns[0:3] + columns[5:7]"
   ]
  },
  {
   "cell_type": "code",
   "execution_count": 11,
   "metadata": {},
   "outputs": [],
   "source": [
    "# df.loc[row_interest,col_interest]"
   ]
  },
  {
   "cell_type": "markdown",
   "metadata": {},
   "source": [
    "# using boolean operators to control the data in the dataframe"
   ]
  },
  {
   "cell_type": "markdown",
   "metadata": {},
   "source": [
    "## filtering by boolean"
   ]
  },
  {
   "cell_type": "code",
   "execution_count": 12,
   "metadata": {},
   "outputs": [
    {
     "name": "stdout",
     "output_type": "stream",
     "text": [
      "['show_id', 'type', 'title', 'director', 'cast', 'country', 'date_added', 'release_year', 'rating', 'duration', 'listed_in', 'description']\n"
     ]
    }
   ],
   "source": [
    "print(columns)"
   ]
  },
  {
   "cell_type": "code",
   "execution_count": 13,
   "metadata": {
    "scrolled": true,
    "tags": []
   },
   "outputs": [
    {
     "name": "stdout",
     "output_type": "stream",
     "text": [
      "<class 'pandas.core.frame.DataFrame'>\n"
     ]
    },
    {
     "data": {
      "text/html": [
       "<div>\n",
       "<style scoped>\n",
       "    .dataframe tbody tr th:only-of-type {\n",
       "        vertical-align: middle;\n",
       "    }\n",
       "\n",
       "    .dataframe tbody tr th {\n",
       "        vertical-align: top;\n",
       "    }\n",
       "\n",
       "    .dataframe thead th {\n",
       "        text-align: right;\n",
       "    }\n",
       "</style>\n",
       "<table border=\"1\" class=\"dataframe\">\n",
       "  <thead>\n",
       "    <tr style=\"text-align: right;\">\n",
       "      <th></th>\n",
       "      <th>val</th>\n",
       "    </tr>\n",
       "    <tr>\n",
       "      <th>ind</th>\n",
       "      <th></th>\n",
       "    </tr>\n",
       "  </thead>\n",
       "  <tbody>\n",
       "    <tr>\n",
       "      <th>prior110</th>\n",
       "      <td>13.962170</td>\n",
       "    </tr>\n",
       "    <tr>\n",
       "      <th>prior113</th>\n",
       "      <td>10.861125</td>\n",
       "    </tr>\n",
       "    <tr>\n",
       "      <th>prior118</th>\n",
       "      <td>21.304131</td>\n",
       "    </tr>\n",
       "    <tr>\n",
       "      <th>prior141</th>\n",
       "      <td>11.309109</td>\n",
       "    </tr>\n",
       "    <tr>\n",
       "      <th>prior144</th>\n",
       "      <td>11.363863</td>\n",
       "    </tr>\n",
       "    <tr>\n",
       "      <th>prior16</th>\n",
       "      <td>14.479841</td>\n",
       "    </tr>\n",
       "    <tr>\n",
       "      <th>prior217</th>\n",
       "      <td>10.403186</td>\n",
       "    </tr>\n",
       "    <tr>\n",
       "      <th>prior223</th>\n",
       "      <td>14.201095</td>\n",
       "    </tr>\n",
       "    <tr>\n",
       "      <th>prior245</th>\n",
       "      <td>7.974116</td>\n",
       "    </tr>\n",
       "    <tr>\n",
       "      <th>prior29</th>\n",
       "      <td>17.401692</td>\n",
       "    </tr>\n",
       "    <tr>\n",
       "      <th>prior352</th>\n",
       "      <td>9.860627</td>\n",
       "    </tr>\n",
       "    <tr>\n",
       "      <th>prior360</th>\n",
       "      <td>12.339472</td>\n",
       "    </tr>\n",
       "    <tr>\n",
       "      <th>prior370</th>\n",
       "      <td>16.207068</td>\n",
       "    </tr>\n",
       "    <tr>\n",
       "      <th>prior438</th>\n",
       "      <td>16.381284</td>\n",
       "    </tr>\n",
       "    <tr>\n",
       "      <th>prior55</th>\n",
       "      <td>20.587357</td>\n",
       "    </tr>\n",
       "    <tr>\n",
       "      <th>prior59</th>\n",
       "      <td>10.452962</td>\n",
       "    </tr>\n",
       "    <tr>\n",
       "      <th>prior60</th>\n",
       "      <td>15.828771</td>\n",
       "    </tr>\n",
       "    <tr>\n",
       "      <th>prior68</th>\n",
       "      <td>16.769537</td>\n",
       "    </tr>\n",
       "    <tr>\n",
       "      <th>prior74</th>\n",
       "      <td>16.918865</td>\n",
       "    </tr>\n",
       "    <tr>\n",
       "      <th>prior88</th>\n",
       "      <td>9.805874</td>\n",
       "    </tr>\n",
       "  </tbody>\n",
       "</table>\n",
       "</div>"
      ],
      "text/plain": [
       "                val\n",
       "ind                \n",
       "prior110  13.962170\n",
       "prior113  10.861125\n",
       "prior118  21.304131\n",
       "prior141  11.309109\n",
       "prior144  11.363863\n",
       "prior16   14.479841\n",
       "prior217  10.403186\n",
       "prior223  14.201095\n",
       "prior245   7.974116\n",
       "prior29   17.401692\n",
       "prior352   9.860627\n",
       "prior360  12.339472\n",
       "prior370  16.207068\n",
       "prior438  16.381284\n",
       "prior55   20.587357\n",
       "prior59   10.452962\n",
       "prior60   15.828771\n",
       "prior68   16.769537\n",
       "prior74   16.918865\n",
       "prior88    9.805874"
      ]
     },
     "execution_count": 13,
     "metadata": {},
     "output_type": "execute_result"
    }
   ],
   "source": [
    "data = {'ind': ['prior110', 'prior113', 'prior118', 'prior141', 'prior144', 'prior16', 'prior217', 'prior223', 'prior245', 'prior29', 'prior352', 'prior360', 'prior370', 'prior438', 'prior55', 'prior59', 'prior60', 'prior68', 'prior74', 'prior88'],\n",
    "        'val': [13.96217, 10.861125, 21.304131, 11.309109, 11.363863, 14.479841, 10.403186, 14.201095, 7.974116, 17.401692, 9.860627, 12.339472, 16.207068, 16.381284, 20.587357, 10.452962, 15.828771, 16.769537, 16.918865, 9.805874]}\n",
    "\n",
    "prior_fails = pd.DataFrame(data, columns=['ind', 'val'])\n",
    "print(type(prior_fails))\n",
    "prior_fails.set_index('ind', inplace=True)\n",
    "\n",
    "prior_fails"
   ]
  },
  {
   "cell_type": "code",
   "execution_count": 14,
   "metadata": {},
   "outputs": [
    {
     "data": {
      "text/plain": [
       "Text(0.5, 1.0, 'Histogram')"
      ]
     },
     "execution_count": 14,
     "metadata": {},
     "output_type": "execute_result"
    },
    {
     "data": {
      "image/png": "[encoded data removed]",
      "text/plain": [
       "<Figure size 432x288 with 1 Axes>"
      ]
     },
     "metadata": {
      "needs_background": "light"
     },
     "output_type": "display_data"
    }
   ],
   "source": [
    "prior_fails.hist()\n",
    "plt.ylabel('Frequency')\n",
    "plt.title('Histogram')"
   ]
  },
  {
   "cell_type": "code",
   "execution_count": 15,
   "metadata": {},
   "outputs": [
    {
     "name": "stdout",
     "output_type": "stream",
     "text": [
      "<class 'pandas.core.frame.DataFrame'>\n"
     ]
    },
    {
     "data": {
      "text/html": [
       "<div>\n",
       "<style scoped>\n",
       "    .dataframe tbody tr th:only-of-type {\n",
       "        vertical-align: middle;\n",
       "    }\n",
       "\n",
       "    .dataframe tbody tr th {\n",
       "        vertical-align: top;\n",
       "    }\n",
       "\n",
       "    .dataframe thead th {\n",
       "        text-align: right;\n",
       "    }\n",
       "</style>\n",
       "<table border=\"1\" class=\"dataframe\">\n",
       "  <thead>\n",
       "    <tr style=\"text-align: right;\">\n",
       "      <th></th>\n",
       "      <th>duration</th>\n",
       "    </tr>\n",
       "  </thead>\n",
       "  <tbody>\n",
       "    <tr>\n",
       "      <th>0</th>\n",
       "      <td>90 min</td>\n",
       "    </tr>\n",
       "    <tr>\n",
       "      <th>1</th>\n",
       "      <td>2 Seasons</td>\n",
       "    </tr>\n",
       "    <tr>\n",
       "      <th>2</th>\n",
       "      <td>1 Season</td>\n",
       "    </tr>\n",
       "    <tr>\n",
       "      <th>3</th>\n",
       "      <td>1 Season</td>\n",
       "    </tr>\n",
       "    <tr>\n",
       "      <th>4</th>\n",
       "      <td>2 Seasons</td>\n",
       "    </tr>\n",
       "    <tr>\n",
       "      <th>...</th>\n",
       "      <td>...</td>\n",
       "    </tr>\n",
       "    <tr>\n",
       "      <th>8802</th>\n",
       "      <td>158 min</td>\n",
       "    </tr>\n",
       "    <tr>\n",
       "      <th>8803</th>\n",
       "      <td>2 Seasons</td>\n",
       "    </tr>\n",
       "    <tr>\n",
       "      <th>8804</th>\n",
       "      <td>88 min</td>\n",
       "    </tr>\n",
       "    <tr>\n",
       "      <th>8805</th>\n",
       "      <td>88 min</td>\n",
       "    </tr>\n",
       "    <tr>\n",
       "      <th>8806</th>\n",
       "      <td>111 min</td>\n",
       "    </tr>\n",
       "  </tbody>\n",
       "</table>\n",
       "<p>8807 rows × 1 columns</p>\n",
       "</div>"
      ],
      "text/plain": [
       "       duration\n",
       "0        90 min\n",
       "1     2 Seasons\n",
       "2      1 Season\n",
       "3      1 Season\n",
       "4     2 Seasons\n",
       "...         ...\n",
       "8802    158 min\n",
       "8803  2 Seasons\n",
       "8804     88 min\n",
       "8805     88 min\n",
       "8806    111 min\n",
       "\n",
       "[8807 rows x 1 columns]"
      ]
     },
     "execution_count": 15,
     "metadata": {},
     "output_type": "execute_result"
    }
   ],
   "source": [
    "print(type(df[['duration']]))\n",
    "df[['duration']]"
   ]
  },
  {
   "cell_type": "markdown",
   "metadata": {},
   "source": [
    "# creating a histogram from pandas dataframe named df using the year of release as the x axis and the number of releases per year as the y axis"
   ]
  },
  {
   "cell_type": "code",
   "execution_count": 16,
   "metadata": {},
   "outputs": [
    {
     "data": {
      "text/plain": [
       "Text(0.5, 0, 'year')"
      ]
     },
     "execution_count": 16,
     "metadata": {},
     "output_type": "execute_result"
    },
    {
     "data": {
      "image/png": "[encoded data removed]",
      "text/plain": [
       "<Figure size 432x288 with 1 Axes>"
      ]
     },
     "metadata": {
      "needs_background": "light"
     },
     "output_type": "display_data"
    }
   ],
   "source": [
    "df[['release_year']].hist()\n",
    "plt.ylabel('freq')\n",
    "plt.xlabel('year')"
   ]
  },
  {
   "cell_type": "markdown",
   "metadata": {
    "tags": []
   },
   "source": [
    "# looping over dataframes to get values of a specific series"
   ]
  },
  {
   "cell_type": "code",
   "execution_count": null,
   "metadata": {},
   "outputs": [],
   "source": [
    "for label, row in df.iterrows():\n",
    "    print(label,(row['show_id']),(row['release_year']))"
   ]
  },
  {
   "cell_type": "code",
   "execution_count": null,
   "metadata": {},
   "outputs": [],
   "source": []
  },
  {
   "cell_type": "code",
   "execution_count": null,
   "metadata": {},
   "outputs": [],
   "source": []
  },
  {
   "cell_type": "code",
   "execution_count": null,
   "metadata": {},
   "outputs": [],
   "source": []
  }
 ],
 "metadata": {
  "kernelspec": {
   "display_name": "Python 3 (ipykernel)",
   "language": "python",
   "name": "python3"
  },
  "language_info": {
   "codemirror_mode": {
    "name": "ipython",
    "version": 3
   },
   "file_extension": ".py",
   "mimetype": "text/x-python",
   "name": "python",
   "nbconvert_exporter": "python",
   "pygments_lexer": "ipython3",
   "version": "3.8.2"
  }
 },
 "nbformat": 4,
 "nbformat_minor": 4
}
