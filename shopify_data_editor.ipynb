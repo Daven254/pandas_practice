{
 "cells": [
  {
   "cell_type": "markdown",
   "metadata": {},
   "source": [
    "## Import Statements"
   ]
  },
  {
   "cell_type": "code",
   "execution_count": 59,
   "metadata": {},
   "outputs": [
    {
     "name": "stdout",
     "output_type": "stream",
     "text": [
      "Populating the interactive namespace from numpy and matplotlib\n"
     ]
    }
   ],
   "source": [
    "import pandas as pd\n",
    "import numpy as np\n",
    "import matplotlib.pyplot as plt\n",
    "%pylab inline"
   ]
  },
  {
   "cell_type": "markdown",
   "metadata": {},
   "source": [
    "### Handling Money and Sales, so money formatting is more appropriate for certain values\n",
    "For this, I created a formatting method for currency"
   ]
  },
  {
   "cell_type": "code",
   "execution_count": null,
   "metadata": {},
   "outputs": [],
   "source": [
    "def money_format(x):\n",
    "    return \"$\"+('%.2f' % x).rstrip('0').rstrip('.')"
   ]
  },
  {
   "cell_type": "markdown",
   "metadata": {},
   "source": [
    "Loading the dataframe from the csv/excel file into a variable called *data*"
   ]
  },
  {
   "cell_type": "markdown",
   "metadata": {},
   "source": [
    "## Reading in transactions data"
   ]
  },
  {
   "cell_type": "code",
   "execution_count": null,
   "metadata": {},
   "outputs": [],
   "source": [
    "data = pd.read_csv('datasets/shopify_data.csv')"
   ]
  },
  {
   "cell_type": "markdown",
   "metadata": {},
   "source": [
    "***\n",
    "I want to first verify that that there the entire dataframe is filled and NA/NaN values are not present.\n",
    "\n",
    "For this, I use the *.info()* method on my dataframe"
   ]
  },
  {
   "cell_type": "code",
   "execution_count": 91,
   "metadata": {},
   "outputs": [
    {
     "name": "stdout",
     "output_type": "stream",
     "text": [
      "<class 'pandas.core.frame.DataFrame'>\n",
      "RangeIndex: 5000 entries, 0 to 4999\n",
      "Data columns (total 7 columns):\n",
      "order_id          5000 non-null int64\n",
      "shop_id           5000 non-null int64\n",
      "user_id           5000 non-null int64\n",
      "order_amount      5000 non-null int64\n",
      "total_items       5000 non-null int64\n",
      "payment_method    5000 non-null object\n",
      "created_at        5000 non-null object\n",
      "dtypes: int64(5), object(2)\n",
      "memory usage: 273.5+ KB\n",
      "None\n"
     ]
    }
   ],
   "source": [
    "print(data.info())"
   ]
  },
  {
   "cell_type": "markdown",
   "metadata": {},
   "source": [
    "***\n",
    "# How did the wrong Average Order Value (AOV) value come into play?"
   ]
  },
  {
   "cell_type": "code",
   "execution_count": 62,
   "metadata": {},
   "outputs": [
    {
     "name": "stdout",
     "output_type": "stream",
     "text": [
      "Incorrect AOV: $3145.13\n"
     ]
    }
   ],
   "source": [
    "print(\"Incorrect AOV:\",money_format(data['order_amount'].mean()))"
   ]
  },
  {
   "cell_type": "markdown",
   "metadata": {},
   "source": [
    "***\n",
    "## Moving Forward to get a more appropriate AOV...\n",
    "First, lets confirm that there are indeed 100 different shops"
   ]
  },
  {
   "cell_type": "code",
   "execution_count": 90,
   "metadata": {},
   "outputs": [],
   "source": [
    "list_of_shops = data['shop_id'].unique()"
   ]
  },
  {
   "cell_type": "markdown",
   "metadata": {},
   "source": [
    "Now, I will find the total number of items bought for the total amount of money paid. \n",
    "To do this, I will break each order into items and populate a list"
   ]
  },
  {
   "cell_type": "code",
   "execution_count": 85,
   "metadata": {},
   "outputs": [],
   "source": [
    "list_of_items = []\n",
    "\n",
    "for shop_id_num in list_of_shops:    \n",
    "    #print(data[data[\"shop_id\"] == shop_id_num][['order_amount','total_items']].sum())\n",
    "\n",
    "    total_item_count = data[data[\"shop_id\"] == shop_id_num]['total_items'].sum()\n",
    "    average_cost = data[data[\"shop_id\"] == shop_id_num]['order_amount'].sum()/total_item_count\n",
    "    #print(average_cost)\n",
    "    for x in range(total_item_count):\n",
    "        list_of_items.append(average_cost)"
   ]
  },
  {
   "cell_type": "code",
   "execution_count": 86,
   "metadata": {},
   "outputs": [],
   "source": [
    "#print(list_of_items)"
   ]
  },
  {
   "cell_type": "code",
   "execution_count": 87,
   "metadata": {},
   "outputs": [
    {
     "name": "stdout",
     "output_type": "stream",
     "text": [
      "Median cost per item: $352\n"
     ]
    }
   ],
   "source": [
    "print(\"Median cost per item:\",money_format(np.median(np.array(list_of_items))))"
   ]
  },
  {
   "cell_type": "code",
   "execution_count": 88,
   "metadata": {},
   "outputs": [
    {
     "name": "stdout",
     "output_type": "stream",
     "text": [
      "Average cost per item based on total cost of all items: $357.92\n"
     ]
    }
   ],
   "source": [
    "print(\"Average cost per item based on total cost of all items:\",money_format(np.mean(np.array(list_of_items))))"
   ]
  },
  {
   "cell_type": "markdown",
   "metadata": {},
   "source": [
    "# Plotting my data to see how it looks"
   ]
  },
  {
   "cell_type": "markdown",
   "metadata": {},
   "source": [
    "## Histogram of cost of each item purchased, regardless of how many transactions were required to acquire every pair of sneakers"
   ]
  },
  {
   "cell_type": "code",
   "execution_count": 125,
   "metadata": {},
   "outputs": [
    {
     "data": {
      "image/png": "[encoded data removed]",
      "text/plain": [
       "<Figure size 432x288 with 1 Axes>"
      ]
     },
     "metadata": {
      "needs_background": "light"
     },
     "output_type": "display_data"
    },
    {
     "name": "stdout",
     "output_type": "stream",
     "text": [
      "[   90.  5217. 10344. 15471. 20598. 25725.]\n",
      "[43848.     0.     0.     0.    88.]\n"
     ]
    }
   ],
   "source": [
    "counts1, edges1, plot = plt.hist(np.array(list_of_items), bins = 5)\n",
    "plt.xlabel('cost per item / $')\n",
    "plt.ylabel('Number of items sold')\n",
    "plt.show()\n",
    "print(edges1)\n",
    "print(counts1)"
   ]
  },
  {
   "cell_type": "markdown",
   "metadata": {},
   "source": [
    "There is clearly something skewing this data, so I should look out for why we have such extremes in pricing"
   ]
  },
  {
   "cell_type": "code",
   "execution_count": 132,
   "metadata": {},
   "outputs": [
    {
     "data": {
      "image/png": "[encoded data removed]",
      "text/plain": [
       "<Figure size 432x288 with 1 Axes>"
      ]
     },
     "metadata": {
      "needs_background": "light"
     },
     "output_type": "display_data"
    },
    {
     "name": "stdout",
     "output_type": "stream",
     "text": [
      "[   90.  5217. 10344. 15471. 20598. 25725.]\n",
      "[4954.    0.    0.    0.   46.]\n"
     ]
    }
   ],
   "source": [
    "#Finding values greater than the average. Average cost is greater than the median cost\n",
    "\n",
    "data['average_cost_per_item'] = data['order_amount']/data['total_items']\n",
    "data.sort_values(by = 'average_cost_per_item')\n",
    "counts2, edges2, plot = plt.hist(data['average_cost_per_item'], bins = 5)\n",
    "plt.xlabel('Average price per item by shop / $')\n",
    "plt.ylabel('Number of shops')\n",
    "plt.show()\n",
    "print(edges2)\n",
    "print(counts2)"
   ]
  },
  {
   "cell_type": "markdown",
   "metadata": {},
   "source": [
    "# THIS IS SHOWING THAT THERE IS A STORE OR A FEW STORES THAT ARE CHARGING A VERY HIGH PRICE FOR SNEAKERS ON AVERAGE\n",
    "## 88 PAIRS OF SNEAKERS SOLD IN 46 TRANSACTIONS\n",
    "***\n",
    "## Comparing the size of bins shows that the each transaction does not equate to a single item purchased"
   ]
  },
  {
   "cell_type": "code",
   "execution_count": 121,
   "metadata": {},
   "outputs": [
    {
     "name": "stdout",
     "output_type": "stream",
     "text": [
      "[ True  True  True  True  True  True  True  True  True  True  True  True\n",
      "  True  True]\n"
     ]
    }
   ],
   "source": [
    "print(edges1 == edges2)"
   ]
  },
  {
   "cell_type": "code",
   "execution_count": 122,
   "metadata": {},
   "outputs": [
    {
     "name": "stdout",
     "output_type": "stream",
     "text": [
      "[False  True  True  True  True  True  True  True  True  True  True  True\n",
      " False]\n"
     ]
    }
   ],
   "source": [
    "print(counts1 == counts2)"
   ]
  },
  {
   "cell_type": "markdown",
   "metadata": {},
   "source": []
  },
  {
   "cell_type": "code",
   "execution_count": 134,
   "metadata": {},
   "outputs": [
    {
     "name": "stdout",
     "output_type": "stream",
     "text": [
      "[  158.    94.   148.   128.   142.   187.   112.   132.   118.   184.\n",
      "   201.   160.   116.   153.   156.   176.   163.   127.   146.   140.\n",
      "   130.   169.   164.   129.   101.   173.   122.   190.   134.   161.\n",
      "   352.   181.   144.   166.   145.   117.   193.   133.   171.   147.\n",
      "   138.   178.   177.   136.   154.   131.   165.   155. 25725.   172.\n",
      "   149.   196.    90.   114.   168.   162.   195.   111.]\n"
     ]
    }
   ],
   "source": [
    "print(data['average_cost_per_item'].unique())"
   ]
  },
  {
   "cell_type": "code",
   "execution_count": 153,
   "metadata": {},
   "outputs": [
    {
     "name": "stdout",
     "output_type": "stream",
     "text": [
      "[158. 158. 158. ... 111. 111. 111.]\n",
      "94\n"
     ]
    },
    {
     "data": {
      "text/plain": [
       "array([ 42,  55,  42,  40, 124,  59,  58,  77, 118,  50,  52,  93, 142,\n",
       "       150,  97,  46, 151,  86, 105,  59,  55, 197,  39,  92,  89,  53,\n",
       "       101,  52, 256,  54,  42, 197,  94, 206, 101,  48, 122, 161,  58,\n",
       "        43,  39,  54,  48,  35,  99, 152, 148, 109, 112,  49, 105,  35,\n",
       "        44,  54,  61,  53,  51,  46], dtype=int64)"
      ]
     },
     "execution_count": 153,
     "metadata": {},
     "output_type": "execute_result"
    }
   ],
   "source": [
    "\n"
   ]
  },
  {
   "cell_type": "code",
   "execution_count": null,
   "metadata": {},
   "outputs": [],
   "source": []
  }
 ],
 "metadata": {
  "kernelspec": {
   "display_name": "Python 3",
   "language": "python",
   "name": "python3"
  },
  "language_info": {
   "codemirror_mode": {
    "name": "ipython",
    "version": 3
   },
   "file_extension": ".py",
   "mimetype": "text/x-python",
   "name": "python",
   "nbconvert_exporter": "python",
   "pygments_lexer": "ipython3",
   "version": "3.7.3"
  }
 },
 "nbformat": 4,
 "nbformat_minor": 4
}
