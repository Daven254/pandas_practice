{
 "cells": [
  {
   "cell_type": "markdown",
   "metadata": {},
   "source": [
    "## Import Statements"
   ]
  },
  {
   "cell_type": "code",
   "execution_count": 1,
   "metadata": {},
   "outputs": [
    {
     "name": "stdout",
     "output_type": "stream",
     "text": [
      "Populating the interactive namespace from numpy and matplotlib\n"
     ]
    }
   ],
   "source": [
    "import pandas as pd\n",
    "import numpy as np\n",
    "import matplotlib.pyplot as plt\n",
    "%pylab inline"
   ]
  },
  {
   "cell_type": "markdown",
   "metadata": {},
   "source": [
    "### Handling Money and Sales, so money formatting is more appropriate for certain values\n",
    "For this, I created a formatting method for currency."
   ]
  },
  {
   "cell_type": "code",
   "execution_count": 2,
   "metadata": {},
   "outputs": [],
   "source": [
    "def money_format(x):\n",
    "    return \"$\"+('%.2f' % x).rstrip('0').rstrip('.')"
   ]
  },
  {
   "cell_type": "markdown",
   "metadata": {},
   "source": [
    "Loading the dataframe from the csv/excel file into a variable called *data*."
   ]
  },
  {
   "cell_type": "markdown",
   "metadata": {},
   "source": [
    "## Reading in transactions data"
   ]
  },
  {
   "cell_type": "code",
   "execution_count": 3,
   "metadata": {},
   "outputs": [],
   "source": [
    "data = pd.read_csv('datasets/shopify_data.csv')"
   ]
  },
  {
   "cell_type": "markdown",
   "metadata": {},
   "source": [
    "***\n",
    "I want to first verify that that there the entire dataframe is filled and NA/NaN values are not present.\n",
    "\n",
    "For this, I use the *.info()* method on my dataframe"
   ]
  },
  {
   "cell_type": "code",
   "execution_count": 4,
   "metadata": {},
   "outputs": [
    {
     "name": "stdout",
     "output_type": "stream",
     "text": [
      "<class 'pandas.core.frame.DataFrame'>\n",
      "RangeIndex: 5000 entries, 0 to 4999\n",
      "Data columns (total 7 columns):\n",
      "order_id          5000 non-null int64\n",
      "shop_id           5000 non-null int64\n",
      "user_id           5000 non-null int64\n",
      "order_amount      5000 non-null int64\n",
      "total_items       5000 non-null int64\n",
      "payment_method    5000 non-null object\n",
      "created_at        5000 non-null object\n",
      "dtypes: int64(5), object(2)\n",
      "memory usage: 273.5+ KB\n",
      "None\n"
     ]
    }
   ],
   "source": [
    "print(data.info())"
   ]
  },
  {
   "cell_type": "markdown",
   "metadata": {},
   "source": [
    "***\n",
    "# How did the wrong Average Order Value (AOV) value come into play?"
   ]
  },
  {
   "cell_type": "code",
   "execution_count": 5,
   "metadata": {},
   "outputs": [
    {
     "name": "stdout",
     "output_type": "stream",
     "text": [
      "Incorrect AOV: $3145.13\n"
     ]
    }
   ],
   "source": [
    "print(\"Incorrect AOV:\",money_format(data['order_amount'].mean()))"
   ]
  },
  {
   "cell_type": "markdown",
   "metadata": {},
   "source": [
    "***\n",
    "## Moving Forward to get a more appropriate AOV...\n",
    "First, lets confirm that there are indeed 100 different shops."
   ]
  },
  {
   "cell_type": "code",
   "execution_count": 6,
   "metadata": {},
   "outputs": [],
   "source": [
    "list_of_shops = data['shop_id'].unique()"
   ]
  },
  {
   "cell_type": "markdown",
   "metadata": {},
   "source": [
    "Now, I will find the total number of items bought for the total amount of money paid. \n",
    "To do this, I will break each order into items and populate a list"
   ]
  },
  {
   "cell_type": "code",
   "execution_count": 7,
   "metadata": {},
   "outputs": [],
   "source": [
    "list_of_items = []\n",
    "\n",
    "for shop_id_num in list_of_shops:    \n",
    "    #print(data[data[\"shop_id\"] == shop_id_num][['order_amount','total_items']].sum())\n",
    "\n",
    "    total_item_count = data[data[\"shop_id\"] == shop_id_num]['total_items'].sum()\n",
    "    average_cost = data[data[\"shop_id\"] == shop_id_num]['order_amount'].sum()/total_item_count\n",
    "    #print(average_cost)\n",
    "    for x in range(total_item_count):\n",
    "        list_of_items.append(average_cost)"
   ]
  },
  {
   "cell_type": "code",
   "execution_count": 8,
   "metadata": {},
   "outputs": [],
   "source": [
    "#print(list_of_items)"
   ]
  },
  {
   "cell_type": "code",
   "execution_count": 9,
   "metadata": {},
   "outputs": [
    {
     "name": "stdout",
     "output_type": "stream",
     "text": [
      "Median cost per item: $352\n"
     ]
    }
   ],
   "source": [
    "print(\"Median cost per item:\",money_format(np.median(np.array(list_of_items))))"
   ]
  },
  {
   "cell_type": "code",
   "execution_count": 10,
   "metadata": {},
   "outputs": [
    {
     "name": "stdout",
     "output_type": "stream",
     "text": [
      "Average cost per item based on total cost of all items: $357.92\n"
     ]
    }
   ],
   "source": [
    "print(\"Average cost per item based on total cost of all items:\",money_format(np.mean(np.array(list_of_items))))"
   ]
  },
  {
   "cell_type": "markdown",
   "metadata": {},
   "source": [
    "# Plotting my data to see how it looks"
   ]
  },
  {
   "cell_type": "markdown",
   "metadata": {},
   "source": [
    "## Histogram of cost of each item purchased, regardless of how many transactions were required to acquire every pair of sneakers"
   ]
  },
  {
   "cell_type": "code",
   "execution_count": 11,
   "metadata": {},
   "outputs": [
    {
     "data": {
      "image/png": "[encoded data removed]",
      "text/plain": [
       "<Figure size 432x288 with 1 Axes>"
      ]
     },
     "metadata": {
      "needs_background": "light"
     },
     "output_type": "display_data"
    },
    {
     "name": "stdout",
     "output_type": "stream",
     "text": [
      "[   90.   2653.5  5217.   7780.5 10344.  12907.5 15471.  18034.5 20598.\n",
      " 23161.5 25725. ]\n",
      "[43848.     0.     0.     0.     0.     0.     0.     0.     0.    88.]\n"
     ]
    }
   ],
   "source": [
    "counts1, edges1, plot = plt.hist(np.array(list_of_items), bins = 10)\n",
    "plt.xlabel('cost per item / $')\n",
    "plt.ylabel('Number of items sold')\n",
    "plt.show()\n",
    "print(edges1)\n",
    "print(counts1)"
   ]
  },
  {
   "cell_type": "markdown",
   "metadata": {},
   "source": [
    "There is clearly something skewing this data, so I should look out for why we have such extremes in pricing."
   ]
  },
  {
   "cell_type": "code",
   "execution_count": 12,
   "metadata": {},
   "outputs": [
    {
     "data": {
      "image/png": "[encoded data removed]",
      "text/plain": [
       "<Figure size 432x288 with 1 Axes>"
      ]
     },
     "metadata": {
      "needs_background": "light"
     },
     "output_type": "display_data"
    },
    {
     "name": "stdout",
     "output_type": "stream",
     "text": [
      "[   90.   2653.5  5217.   7780.5 10344.  12907.5 15471.  18034.5 20598.\n",
      " 23161.5 25725. ]\n",
      "1281.75\n",
      "[4954.    0.    0.    0.    0.    0.    0.    0.    0.   46.]\n"
     ]
    }
   ],
   "source": [
    "#Finding values greater than the average. Average cost is greater than the median cost\n",
    "\n",
    "data['average_cost_per_item'] = data['order_amount']/data['total_items']\n",
    "data.sort_values(by = 'average_cost_per_item')\n",
    "counts2, edges2, plot = plt.hist(data['average_cost_per_item'], bins = 10)\n",
    "plt.xlabel('Average price per item by shop / $')\n",
    "plt.ylabel('Number of shops')\n",
    "plt.show()\n",
    "print(edges2)\n",
    "print((edges2[8]-edges2[7])/2)\n",
    "print(counts2)"
   ]
  },
  {
   "cell_type": "markdown",
   "metadata": {},
   "source": [
    "## Comparing the size of bins and count of each bin shows that the each transaction does not equate to a single item purchased\n",
    "Bin edges align and confirm that all data is accounted for.\n",
    "\n",
    "Count of each bin lines up for the middle, but not the extremes."
   ]
  },
  {
   "cell_type": "code",
   "execution_count": 13,
   "metadata": {},
   "outputs": [
    {
     "name": "stdout",
     "output_type": "stream",
     "text": [
      "[ True  True  True  True  True  True  True  True  True  True  True]\n"
     ]
    }
   ],
   "source": [
    "print(edges1 == edges2)"
   ]
  },
  {
   "cell_type": "code",
   "execution_count": 14,
   "metadata": {},
   "outputs": [
    {
     "name": "stdout",
     "output_type": "stream",
     "text": [
      "[False  True  True  True  True  True  True  True  True False]\n"
     ]
    }
   ],
   "source": [
    "print(counts1 == counts2)"
   ]
  },
  {
   "cell_type": "markdown",
   "metadata": {},
   "source": [
    "# THIS IS SHOWING THAT THERE IS A STORE OR A FEW STORES THAT ARE CHARGING A VERY HIGH PRICE FOR SNEAKERS ON AVERAGE\n",
    "## 88 PAIRS OF SNEAKERS SOLD IN 46 TRANSACTIONS at the extreme of pricing (>$20000/pair), but \n",
    "\n",
    "***\n",
    "This made me want to know what other \"abnormalities\" or unique parameters may exist.\n",
    "First, I looked at the x-axis parameters from the above histograms.\n"
   ]
  },
  {
   "cell_type": "code",
   "execution_count": 15,
   "metadata": {},
   "outputs": [
    {
     "name": "stdout",
     "output_type": "stream",
     "text": [
      "Total Items: [   2    1    4    3    5    6 2000    8]\n",
      "Unique Average Cost per Item: [  158.    94.   148.   128.   142.   187.   112.   132.   118.   184.\n",
      "   201.   160.   116.   153.   156.   176.   163.   127.   146.   140.\n",
      "   130.   169.   164.   129.   101.   173.   122.   190.   134.   161.\n",
      "   352.   181.   144.   166.   145.   117.   193.   133.   171.   147.\n",
      "   138.   178.   177.   136.   154.   131.   165.   155. 25725.   172.\n",
      "   149.   196.    90.   114.   168.   162.   195.   111.]\n"
     ]
    }
   ],
   "source": [
    "print(\"Total Items:\",data['total_items'].unique())\n",
    "print(\"Unique Average Cost per Item:\",data['average_cost_per_item'].unique())"
   ]
  },
  {
   "cell_type": "markdown",
   "metadata": {},
   "source": [
    "***\n",
    "Then I moved towards understanding the other columns.\n"
   ]
  },
  {
   "cell_type": "code",
   "execution_count": 16,
   "metadata": {},
   "outputs": [
    {
     "name": "stdout",
     "output_type": "stream",
     "text": [
      "order_id                 5000\n",
      "shop_id                   100\n",
      "user_id                   301\n",
      "order_amount              258\n",
      "total_items                 8\n",
      "payment_method              3\n",
      "created_at               4702\n",
      "average_cost_per_item      58\n",
      "dtype: int64\n"
     ]
    }
   ],
   "source": [
    "print(data.nunique())"
   ]
  },
  {
   "cell_type": "code",
   "execution_count": 17,
   "metadata": {},
   "outputs": [],
   "source": [
    "data['transaction_time'] = pd.to_datetime(data['created_at']).dt.strftime('%m/%d/%Y %H:%M')\n"
   ]
  },
  {
   "cell_type": "code",
   "execution_count": 18,
   "metadata": {},
   "outputs": [],
   "source": [
    "data['month'] = pd.to_datetime(data['created_at']).dt.strftime('%m/%Y')"
   ]
  },
  {
   "cell_type": "code",
   "execution_count": 19,
   "metadata": {},
   "outputs": [
    {
     "data": {
      "image/png": "[encoded data removed]",
      "text/plain": [
       "<Figure size 432x288 with 1 Axes>"
      ]
     },
     "metadata": {
      "needs_background": "light"
     },
     "output_type": "display_data"
    },
    {
     "data": {
      "image/png": "[encoded data removed]",
      "text/plain": [
       "<Figure size 432x288 with 1 Axes>"
      ]
     },
     "metadata": {
      "needs_background": "light"
     },
     "output_type": "display_data"
    },
    {
     "data": {
      "image/png": "[encoded data removed]",
      "text/plain": [
       "<Figure size 432x288 with 1 Axes>"
      ]
     },
     "metadata": {
      "needs_background": "light"
     },
     "output_type": "display_data"
    }
   ],
   "source": [
    "data.plot(kind = \"line\", x = 'month', y = 'average_cost_per_item')\n",
    "data.plot(kind = \"line\", x = 'month', y = 'order_amount')\n",
    "data.plot(kind = \"line\", x = 'month', y = 'total_items')\n",
    "plt.show()\n"
   ]
  },
  {
   "cell_type": "code",
   "execution_count": 20,
   "metadata": {},
   "outputs": [
    {
     "data": {
      "image/png": "[encoded data removed]",
      "text/plain": [
       "<Figure size 432x288 with 1 Axes>"
      ]
     },
     "metadata": {
      "needs_background": "light"
     },
     "output_type": "display_data"
    }
   ],
   "source": [
    "data.plot(kind = 'bar', x = 'shop_id', y = 'total_items')\n",
    "plt.show()"
   ]
  },
  {
   "cell_type": "code",
   "execution_count": 21,
   "metadata": {},
   "outputs": [
    {
     "data": {
      "image/png": "[encoded data removed]",
      "text/plain": [
       "<Figure size 432x288 with 1 Axes>"
      ]
     },
     "metadata": {
      "needs_background": "light"
     },
     "output_type": "display_data"
    }
   ],
   "source": [
    "plt.bar(data['shop_id'],data['total_items'])\n",
    "plt.show()"
   ]
  },
  {
   "cell_type": "code",
   "execution_count": 22,
   "metadata": {},
   "outputs": [
    {
     "name": "stdout",
     "output_type": "stream",
     "text": [
      "      order_id  shop_id  user_id  order_amount  total_items payment_method  \\\n",
      "0           42        1      847           316            2          debit   \n",
      "7          729        1      847           316            2          debit   \n",
      "8          933        1      805           316            2          debit   \n",
      "10        1021        1      715           316            2          debit   \n",
      "11        1168        1      738           158            1          debit   \n",
      "12        1191        1      734           316            2          debit   \n",
      "14        1378        1      889           158            1          debit   \n",
      "15        1547        1      747           158            1          debit   \n",
      "17        1825        1      705           474            3          debit   \n",
      "19        2079        1      900           158            1          debit   \n",
      "20        2194        1      798           474            3          debit   \n",
      "21        2226        1      811           316            2          debit   \n",
      "23        2588        1      756           316            2          debit   \n",
      "25        2942        1      887           158            1          debit   \n",
      "28        3277        1      843           316            2          debit   \n",
      "29        3317        1      918           316            2          debit   \n",
      "35        4359        1      801           158            1          debit   \n",
      "39        4658        1      886           316            2          debit   \n",
      "40        4679        1      917           316            2          debit   \n",
      "42        4909        1      934           316            2          debit   \n",
      "45         239        2      932           188            2          debit   \n",
      "46         316        2      865           282            3          debit   \n",
      "49         604        2      899           188            2          debit   \n",
      "51         679        2      888            94            1          debit   \n",
      "52         784        2      860            94            1          debit   \n",
      "53         826        2      977           376            4          debit   \n",
      "59        1039        2      819           188            2          debit   \n",
      "60        1149        2      962           282            3          debit   \n",
      "73        2475        2      893           282            3          debit   \n",
      "75        2613        2      900           188            2          debit   \n",
      "...        ...      ...      ...           ...          ...            ...   \n",
      "4936      2876       99      784           195            1          debit   \n",
      "4937      2995       99      731           195            1          debit   \n",
      "4940      3110       99      990           390            2          debit   \n",
      "4943      3274       99      758           195            1          debit   \n",
      "4946      3380       99      934           390            2          debit   \n",
      "4947      3436       99      966           390            2          debit   \n",
      "4951      3861       99      743           195            1          debit   \n",
      "4952      4087       99      897           390            2          debit   \n",
      "4955      4308       99      788           195            1          debit   \n",
      "4957      4593       99      801           195            1          debit   \n",
      "4958      4694       99      818           195            1          debit   \n",
      "4959      4961       99      951           390            2          debit   \n",
      "4962       147      100      899           111            1          debit   \n",
      "4963       150      100      847           222            2          debit   \n",
      "4964       254      100      753           222            2          debit   \n",
      "4965       365      100      784           111            1          debit   \n",
      "4967       483      100      947           111            1          debit   \n",
      "4968       650      100      851           222            2          debit   \n",
      "4969       761      100      990           333            3          debit   \n",
      "4971      1211      100      765           111            1          debit   \n",
      "4974      1482      100      824           222            2          debit   \n",
      "4976      1679      100      985           111            1          debit   \n",
      "4979      1805      100      794           111            1          debit   \n",
      "4981      2516      100      899           111            1          debit   \n",
      "4989      3990      100      889           333            3          debit   \n",
      "4990      4060      100      701           444            4          debit   \n",
      "4993      4205      100      847           333            3          debit   \n",
      "4994      4221      100      980           222            2          debit   \n",
      "4996      4425      100      927           333            3          debit   \n",
      "4997      4429      100      997           111            1          debit   \n",
      "\n",
      "           created_at  average_cost_per_item  transaction_time    month  \n",
      "0     3/20/2017 14:58                  158.0  03/20/2017 14:58  03/2017  \n",
      "7     3/20/2017 22:34                  158.0  03/20/2017 22:34  03/2017  \n",
      "8     3/14/2017 17:37                  158.0  03/14/2017 17:37  03/2017  \n",
      "10     3/8/2017 10:33                  158.0  03/08/2017 10:33  03/2017  \n",
      "11     3/16/2017 0:21                  158.0  03/16/2017 00:21  03/2017  \n",
      "12      3/3/2017 3:40                  158.0  03/03/2017 03:40  03/2017  \n",
      "14    3/27/2017 19:10                  158.0  03/27/2017 19:10  03/2017  \n",
      "15      3/1/2017 1:08                  158.0  03/01/2017 01:08  03/2017  \n",
      "17     3/13/2017 3:13                  158.0  03/13/2017 03:13  03/2017  \n",
      "19      3/9/2017 8:35                  158.0  03/09/2017 08:35  03/2017  \n",
      "20    3/28/2017 14:02                  158.0  03/28/2017 14:02  03/2017  \n",
      "21     3/8/2017 22:09                  158.0  03/08/2017 22:09  03/2017  \n",
      "23    3/30/2017 12:27                  158.0  03/30/2017 12:27  03/2017  \n",
      "25    3/30/2017 19:31                  158.0  03/30/2017 19:31  03/2017  \n",
      "28    3/30/2017 11:09                  158.0  03/30/2017 11:09  03/2017  \n",
      "29     3/15/2017 7:44                  158.0  03/15/2017 07:44  03/2017  \n",
      "35     3/27/2017 7:48                  158.0  03/27/2017 07:48  03/2017  \n",
      "39     3/2/2017 19:20                  158.0  03/02/2017 19:20  03/2017  \n",
      "40    3/17/2017 13:08                  158.0  03/17/2017 13:08  03/2017  \n",
      "42      3/7/2017 3:29                  158.0  03/07/2017 03:29  03/2017  \n",
      "45     3/17/2017 0:45                   94.0  03/17/2017 00:45  03/2017  \n",
      "46     3/17/2017 0:21                   94.0  03/17/2017 00:21  03/2017  \n",
      "49     3/19/2017 7:51                   94.0  03/19/2017 07:51  03/2017  \n",
      "51     3/16/2017 8:49                   94.0  03/16/2017 08:49  03/2017  \n",
      "52    3/21/2017 13:41                   94.0  03/21/2017 13:41  03/2017  \n",
      "53    3/29/2017 12:17                   94.0  03/29/2017 12:17  03/2017  \n",
      "59     3/26/2017 2:58                   94.0  03/26/2017 02:58  03/2017  \n",
      "60    3/24/2017 15:08                   94.0  03/24/2017 15:08  03/2017  \n",
      "73    3/21/2017 12:25                   94.0  03/21/2017 12:25  03/2017  \n",
      "75    3/11/2017 13:14                   94.0  03/11/2017 13:14  03/2017  \n",
      "...               ...                    ...               ...      ...  \n",
      "4936   3/6/2017 20:32                  195.0  03/06/2017 20:32  03/2017  \n",
      "4937   3/14/2017 6:07                  195.0  03/14/2017 06:07  03/2017  \n",
      "4940   3/25/2017 0:11                  195.0  03/25/2017 00:11  03/2017  \n",
      "4943    3/6/2017 0:59                  195.0  03/06/2017 00:59  03/2017  \n",
      "4946  3/23/2017 18:17                  195.0  03/23/2017 18:17  03/2017  \n",
      "4947   3/28/2017 1:48                  195.0  03/28/2017 01:48  03/2017  \n",
      "4951  3/10/2017 15:16                  195.0  03/10/2017 15:16  03/2017  \n",
      "4952   3/22/2017 7:08                  195.0  03/22/2017 07:08  03/2017  \n",
      "4955   3/26/2017 7:46                  195.0  03/26/2017 07:46  03/2017  \n",
      "4957   3/5/2017 11:29                  195.0  03/05/2017 11:29  03/2017  \n",
      "4958   3/26/2017 8:55                  195.0  03/26/2017 08:55  03/2017  \n",
      "4959   3/30/2017 8:50                  195.0  03/30/2017 08:50  03/2017  \n",
      "4962   3/5/2017 16:49                  111.0  03/05/2017 16:49  03/2017  \n",
      "4963  3/12/2017 21:36                  111.0  03/12/2017 21:36  03/2017  \n",
      "4964   3/4/2017 11:23                  111.0  03/04/2017 11:23  03/2017  \n",
      "4965    3/2/2017 3:36                  111.0  03/02/2017 03:36  03/2017  \n",
      "4967  3/21/2017 11:23                  111.0  03/21/2017 11:23  03/2017  \n",
      "4968    3/7/2017 6:02                  111.0  03/07/2017 06:02  03/2017  \n",
      "4969  3/18/2017 21:52                  111.0  03/18/2017 21:52  03/2017  \n",
      "4971   3/30/2017 8:31                  111.0  03/30/2017 08:31  03/2017  \n",
      "4974  3/12/2017 20:04                  111.0  03/12/2017 20:04  03/2017  \n",
      "4976   3/10/2017 4:15                  111.0  03/10/2017 04:15  03/2017  \n",
      "4979  3/27/2017 10:16                  111.0  03/27/2017 10:16  03/2017  \n",
      "4981  3/30/2017 15:17                  111.0  03/30/2017 15:17  03/2017  \n",
      "4989    3/5/2017 0:13                  111.0  03/05/2017 00:13  03/2017  \n",
      "4990    3/1/2017 7:14                  111.0  03/01/2017 07:14  03/2017  \n",
      "4993  3/18/2017 11:13                  111.0  03/18/2017 11:13  03/2017  \n",
      "4994   3/2/2017 16:42                  111.0  03/02/2017 16:42  03/2017  \n",
      "4996  3/13/2017 12:36                  111.0  03/13/2017 12:36  03/2017  \n",
      "4997   3/22/2017 1:27                  111.0  03/22/2017 01:27  03/2017  \n",
      "\n",
      "[1671 rows x 10 columns]\n"
     ]
    }
   ],
   "source": [
    "debit = data[data['payment_method'] == 'debit']\n",
    "cash = data[data['payment_method'] == 'cash']\n",
    "credit = data[data['payment_method'] == 'credit']\n",
    "\n",
    "print(debit)\n"
   ]
  },
  {
   "cell_type": "code",
   "execution_count": 27,
   "metadata": {},
   "outputs": [
    {
     "ename": "TypeError",
     "evalue": "legend only accepts two non-keyword arguments",
     "output_type": "error",
     "traceback": [
      "\u001b[1;31m---------------------------------------------------------------------------\u001b[0m",
      "\u001b[1;31mTypeError\u001b[0m                                 Traceback (most recent call last)",
      "\u001b[1;32m<ipython-input-27-77ddea3eb036>\u001b[0m in \u001b[0;36m<module>\u001b[1;34m\u001b[0m\n\u001b[0;32m      3\u001b[0m \u001b[0mcash_pt\u001b[0m \u001b[1;33m=\u001b[0m \u001b[0mplt\u001b[0m\u001b[1;33m.\u001b[0m\u001b[0mscatter\u001b[0m\u001b[1;33m(\u001b[0m\u001b[0mcash\u001b[0m\u001b[1;33m[\u001b[0m\u001b[1;34m'user_id'\u001b[0m\u001b[1;33m]\u001b[0m\u001b[1;33m,\u001b[0m\u001b[0mcash\u001b[0m\u001b[1;33m[\u001b[0m\u001b[1;34m'order_amount'\u001b[0m\u001b[1;33m]\u001b[0m\u001b[1;33m)\u001b[0m\u001b[1;33m\u001b[0m\u001b[1;33m\u001b[0m\u001b[0m\n\u001b[0;32m      4\u001b[0m \u001b[1;33m\u001b[0m\u001b[0m\n\u001b[1;32m----> 5\u001b[1;33m \u001b[0mplt\u001b[0m\u001b[1;33m.\u001b[0m\u001b[0mlegend\u001b[0m\u001b[1;33m(\u001b[0m\u001b[1;34m'credit'\u001b[0m\u001b[1;33m,\u001b[0m\u001b[1;34m'debit'\u001b[0m\u001b[1;33m,\u001b[0m\u001b[1;34m'cash'\u001b[0m\u001b[1;33m)\u001b[0m\u001b[1;33m\u001b[0m\u001b[1;33m\u001b[0m\u001b[0m\n\u001b[0m\u001b[0;32m      6\u001b[0m \u001b[0mplt\u001b[0m\u001b[1;33m.\u001b[0m\u001b[0mshow\u001b[0m\u001b[1;33m(\u001b[0m\u001b[1;33m)\u001b[0m\u001b[1;33m\u001b[0m\u001b[1;33m\u001b[0m\u001b[0m\n",
      "\u001b[1;32mC:\\Anaconda3\\lib\\site-packages\\matplotlib\\pyplot.py\u001b[0m in \u001b[0;36mlegend\u001b[1;34m(*args, **kwargs)\u001b[0m\n\u001b[0;32m   2683\u001b[0m \u001b[1;33m@\u001b[0m\u001b[0mdocstring\u001b[0m\u001b[1;33m.\u001b[0m\u001b[0mcopy\u001b[0m\u001b[1;33m(\u001b[0m\u001b[0mAxes\u001b[0m\u001b[1;33m.\u001b[0m\u001b[0mlegend\u001b[0m\u001b[1;33m)\u001b[0m\u001b[1;33m\u001b[0m\u001b[1;33m\u001b[0m\u001b[0m\n\u001b[0;32m   2684\u001b[0m \u001b[1;32mdef\u001b[0m \u001b[0mlegend\u001b[0m\u001b[1;33m(\u001b[0m\u001b[1;33m*\u001b[0m\u001b[0margs\u001b[0m\u001b[1;33m,\u001b[0m \u001b[1;33m**\u001b[0m\u001b[0mkwargs\u001b[0m\u001b[1;33m)\u001b[0m\u001b[1;33m:\u001b[0m\u001b[1;33m\u001b[0m\u001b[1;33m\u001b[0m\u001b[0m\n\u001b[1;32m-> 2685\u001b[1;33m     \u001b[1;32mreturn\u001b[0m \u001b[0mgca\u001b[0m\u001b[1;33m(\u001b[0m\u001b[1;33m)\u001b[0m\u001b[1;33m.\u001b[0m\u001b[0mlegend\u001b[0m\u001b[1;33m(\u001b[0m\u001b[1;33m*\u001b[0m\u001b[0margs\u001b[0m\u001b[1;33m,\u001b[0m \u001b[1;33m**\u001b[0m\u001b[0mkwargs\u001b[0m\u001b[1;33m)\u001b[0m\u001b[1;33m\u001b[0m\u001b[1;33m\u001b[0m\u001b[0m\n\u001b[0m\u001b[0;32m   2686\u001b[0m \u001b[1;33m\u001b[0m\u001b[0m\n\u001b[0;32m   2687\u001b[0m \u001b[1;33m\u001b[0m\u001b[0m\n",
      "\u001b[1;32mC:\\Anaconda3\\lib\\site-packages\\matplotlib\\axes\\_axes.py\u001b[0m in \u001b[0;36mlegend\u001b[1;34m(self, *args, **kwargs)\u001b[0m\n\u001b[0;32m    403\u001b[0m                 **kwargs)\n\u001b[0;32m    404\u001b[0m         \u001b[1;32mif\u001b[0m \u001b[0mlen\u001b[0m\u001b[1;33m(\u001b[0m\u001b[0mextra_args\u001b[0m\u001b[1;33m)\u001b[0m\u001b[1;33m:\u001b[0m\u001b[1;33m\u001b[0m\u001b[1;33m\u001b[0m\u001b[0m\n\u001b[1;32m--> 405\u001b[1;33m             \u001b[1;32mraise\u001b[0m \u001b[0mTypeError\u001b[0m\u001b[1;33m(\u001b[0m\u001b[1;34m'legend only accepts two non-keyword arguments'\u001b[0m\u001b[1;33m)\u001b[0m\u001b[1;33m\u001b[0m\u001b[1;33m\u001b[0m\u001b[0m\n\u001b[0m\u001b[0;32m    406\u001b[0m         \u001b[0mself\u001b[0m\u001b[1;33m.\u001b[0m\u001b[0mlegend_\u001b[0m \u001b[1;33m=\u001b[0m \u001b[0mmlegend\u001b[0m\u001b[1;33m.\u001b[0m\u001b[0mLegend\u001b[0m\u001b[1;33m(\u001b[0m\u001b[0mself\u001b[0m\u001b[1;33m,\u001b[0m \u001b[0mhandles\u001b[0m\u001b[1;33m,\u001b[0m \u001b[0mlabels\u001b[0m\u001b[1;33m,\u001b[0m \u001b[1;33m**\u001b[0m\u001b[0mkwargs\u001b[0m\u001b[1;33m)\u001b[0m\u001b[1;33m\u001b[0m\u001b[1;33m\u001b[0m\u001b[0m\n\u001b[0;32m    407\u001b[0m         \u001b[0mself\u001b[0m\u001b[1;33m.\u001b[0m\u001b[0mlegend_\u001b[0m\u001b[1;33m.\u001b[0m\u001b[0m_remove_method\u001b[0m \u001b[1;33m=\u001b[0m \u001b[0mself\u001b[0m\u001b[1;33m.\u001b[0m\u001b[0m_remove_legend\u001b[0m\u001b[1;33m\u001b[0m\u001b[1;33m\u001b[0m\u001b[0m\n",
      "\u001b[1;31mTypeError\u001b[0m: legend only accepts two non-keyword arguments"
     ]
    },
    {
     "data": {
      "image/png": "[encoded data removed]",
      "text/plain": [
       "<Figure size 432x288 with 1 Axes>"
      ]
     },
     "metadata": {
      "needs_background": "light"
     },
     "output_type": "display_data"
    }
   ],
   "source": [
    "credit_pt = plt.scatter(credit['user_id'],credit['order_amount'])\n",
    "debit_pt = plt.scatter(debit['user_id'],debit['order_amount'])\n",
    "cash_pt = plt.scatter(cash['user_id'],cash['order_amount'])\n",
    "\n",
    "plt.legend('credit','debit','cash')\n",
    "plt.show()"
   ]
  },
  {
   "cell_type": "code",
   "execution_count": null,
   "metadata": {},
   "outputs": [],
   "source": []
  }
 ],
 "metadata": {
  "kernelspec": {
   "display_name": "Python 3",
   "language": "python",
   "name": "python3"
  },
  "language_info": {
   "codemirror_mode": {
    "name": "ipython",
    "version": 3
   },
   "file_extension": ".py",
   "mimetype": "text/x-python",
   "name": "python",
   "nbconvert_exporter": "python",
   "pygments_lexer": "ipython3",
   "version": "3.7.3"
  }
 },
 "nbformat": 4,
 "nbformat_minor": 4
}
